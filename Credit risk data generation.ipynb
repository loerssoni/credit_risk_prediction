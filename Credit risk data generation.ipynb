{
 "cells": [
  {
   "cell_type": "markdown",
   "metadata": {},
   "source": [
    "# DATA MERGING AND VALIDATION FOR CREDIT RISK ANALYSIS"
   ]
  },
  {
   "cell_type": "markdown",
   "metadata": {},
   "source": [
    "We will begin by importing relevant libraries, importing and joining the datasets and exploring some missingness of the data"
   ]
  },
  {
   "cell_type": "code",
   "execution_count": 746,
   "metadata": {},
   "outputs": [],
   "source": [
    "import pandas as pd\n",
    "pd.options.mode.chained_assignment = None\n",
    "import pickle\n",
    "import numpy as np"
   ]
  },
  {
   "cell_type": "code",
   "execution_count": 747,
   "metadata": {
    "scrolled": true
   },
   "outputs": [],
   "source": [
    "trans = pd.read_csv('trans.asc',sep=';')\n",
    "client = pd.read_csv('client.asc',sep=';')\n",
    "account = pd.read_csv('account.asc',sep=';')\n",
    "disp = pd.read_csv('disp.asc',sep=';')\n",
    "order = pd.read_csv('order.asc',sep=';')\n",
    "loan = pd.read_csv('loan.asc',sep=';')\n",
    "card = pd.read_csv('card.asc',sep=';')\n",
    "district = pd.read_csv('district.asc',sep=';')"
   ]
  },
  {
   "cell_type": "markdown",
   "metadata": {},
   "source": [
    "### Reading and merging the loan and account -related datasets\n",
    "We merge the static datasets and explore proportional missingness in the full data."
   ]
  },
  {
   "cell_type": "code",
   "execution_count": 748,
   "metadata": {},
   "outputs": [],
   "source": [
    "df = pd.merge(loan, account,on='account_id', suffixes=['_loan','_acnt'], how='outer')\n",
    "df = pd.merge(df, disp, on='account_id', how='outer')\n",
    "df = pd.merge(df, client, on='client_id', how='outer', suffixes = ['_clnt','_acnt'])\n",
    "df = pd.merge(df, district, left_on='district_id_clnt', right_on='A1', how='outer')\n",
    "df = pd.merge(df, card, on='disp_id', how='outer', suffixes=['', '_card'])"
   ]
  },
  {
   "cell_type": "code",
   "execution_count": 749,
   "metadata": {},
   "outputs": [
    {
     "name": "stdout",
     "output_type": "stream",
     "text": [
      "loan_id             0.845968\n",
      "account_id          0.000000\n",
      "date_loan           0.845968\n",
      "amount              0.845968\n",
      "duration            0.845968\n",
      "payments            0.845968\n",
      "status              0.845968\n",
      "district_id_clnt    0.000000\n",
      "frequency           0.000000\n",
      "date_acnt           0.000000\n",
      "disp_id             0.000000\n",
      "client_id           0.000000\n",
      "type                0.000000\n",
      "birth_number        0.000000\n",
      "district_id_acnt    0.000000\n",
      "A1                  0.000000\n",
      "A2                  0.000000\n",
      "A3                  0.000000\n",
      "A4                  0.000000\n",
      "A5                  0.000000\n",
      "A6                  0.000000\n",
      "A7                  0.000000\n",
      "A8                  0.000000\n",
      "A9                  0.000000\n",
      "A10                 0.000000\n",
      "A11                 0.000000\n",
      "A12                 0.000000\n",
      "A13                 0.000000\n",
      "A14                 0.000000\n",
      "A15                 0.000000\n",
      "A16                 0.000000\n",
      "card_id             0.833861\n",
      "type_card           0.833861\n",
      "issued              0.833861\n",
      "dtype: float64\n",
      "\n",
      "There are 683 loans in the data.\n"
     ]
    }
   ],
   "source": [
    "print(np.sum(df.isna())/len(df))\n",
    "print('\\nThere are {} loans in the data.'.format(len(df.loan_id.unique())))"
   ]
  },
  {
   "cell_type": "markdown",
   "metadata": {},
   "source": [
    "There are relatively few loans available in the datasets, and most accounts do not have a loan associated with them.\n",
    "The missingness of credit card data is no issue, as the type and issue date of cards are likely not relevant to the problem.\n",
    "\n"
   ]
  },
  {
   "cell_type": "markdown",
   "metadata": {},
   "source": [
    "### Feature generation for loans\n",
    "\n",
    "We first drop observations on users that do not have a loan associated in any of the accounts they participate in.\n",
    "\n",
    "We also drop some irrelevant columns. Most of the identification was only necessary for joining the data, so they are dropped. \n",
    "There are only 5 junior and 3 gold cards in the data so the card type is dropped as well.\n",
    "\n",
    "We then encode features into formats suitable for machine learning.\n",
    "\n",
    "The demographic data is available only as static values measured after some of the loans in the data are already issued. Because ex-ante values are not available, we make the assumption that  the demographics do not drastically change across years. However, if the demographics turn out to be important in predicting credit defaults, this problem should be readdressed."
   ]
  },
  {
   "cell_type": "code",
   "execution_count": 750,
   "metadata": {},
   "outputs": [],
   "source": [
    "loans = df[~df.loan_id.isna()]\n",
    "\n",
    "# create a table that we will later use for merging\n",
    "loan_dates = loans[['account_id','loan_id','date_loan']]\n",
    "#translate loan date to datetime format\n",
    "loan_dates.date_loan = pd.to_datetime(loan_dates.date_loan, format='%y%m%d')\n",
    "\n",
    "#drop unnecessary columns\n",
    "loans.drop(['account_id','district_id_acnt','district_id_clnt', 'disp_id',\n",
    "            'client_id', 'card_id', 'type_card'], axis=1, inplace=True)\n",
    "\n",
    "\n",
    "\n",
    "#create dummy for whether the loan completed successfully\n",
    "loans['target'] = (loans.status == 'B').astype(int) + (loans.status == 'D').astype(int)\n",
    "\n",
    "#convert date columns to datetime\n",
    "loans['date_loan'] = pd.to_datetime(loans.date_loan, format='%y%m%d')\n",
    "loans['issued'] = pd.to_datetime(loans.issued.str[:6])\n",
    "loans['date_acnt'] = pd.to_datetime(loans.date_acnt, format='%y%m%d')\n",
    "\n",
    "#find gender (encoded into the birthnumber) and convert birthdate into datetime\n",
    "loans['gender'] = (loans.birth_number % 10000 > 5000).astype(int)\n",
    "loans['birthdate'] = loans.birth_number - 5000 * loans.gender + 19000000\n",
    "loans['birthdate'] = pd.to_datetime(loans.birthdate, format='%Y%m%d')\n",
    "\n",
    "#find the age of applicant and the account at the time of loan issuance\n",
    "loans['appl_age'] = (loans.date_loan - loans.birthdate).dt.days / 365.25\n",
    "loans['accnt_age'] = (loans.date_loan - loans.date_acnt).dt.days / 365.25\n",
    "\n",
    "\n",
    "\n",
    "#create dummy for whether the account has an associated card at the time of loan issuance\n",
    "loans['issued'] = (loans.issued < loans.date_loan).astype(int)\n",
    "\n",
    "#create dummies for the frequency of statement issuance and the account type\n",
    "loans = pd.get_dummies(loans, columns=['frequency', 'type'], drop_first=True)\n",
    "\n",
    "\n",
    "# select unemployment and crime from the demographic statistics.\n",
    "loans['A13'] = np.select([loans.date_loan.dt.year > 1996,\n",
    "                             loans.date_loan.dt.year < 1997],\n",
    "                            [loans.A13, loans.A12])\n",
    "\n",
    "loans['A12'] = np.select([loans.date_loan.dt.year > 1996, loans.date_loan.dt.year < 1997],\n",
    "          [loans.A16, loans.A15])\n",
    "\n",
    "# convert the columns to numeric values and scale the crime numbers for population\n",
    "loans['A13'] = pd.to_numeric(loans.A13, errors='coerce')\n",
    "loans['A12'] = pd.to_numeric(loans.A12, errors='coerce') / loans.A4\n",
    "loans['A14'] = loans.A14 / loans.A4 * 100\n",
    "\n",
    "\n",
    "\n",
    "#finally, aggregate to loan-level from client-level data\n",
    "loans = loans.groupby('loan_id').agg('mean')\n",
    "#create dummy for loans, where the account has multiple users\n",
    "loans['multi'] = np.select([loans.type_OWNER < 1], [1], 0)\n",
    "\n",
    "#drop unnecessary columns\n",
    "loans.drop(['birth_number','type_OWNER','A16'], axis=1, inplace=True)"
   ]
  },
  {
   "cell_type": "code",
   "execution_count": 751,
   "metadata": {},
   "outputs": [],
   "source": [
    "loans.columns = ['amount', 'duration', 'payments', 'A1', 'A4', 'A5', 'A6', 'A7', 'A8',\n",
    "       'A9', 'A10', 'A11', 'A12', 'A13', 'A14', 'issued', 'target', 'gender',\n",
    "       'appl_age', 'accnt_age', 'frequency_trans',\n",
    "       'frequency_weekly', 'multi']"
   ]
  },
  {
   "cell_type": "code",
   "execution_count": 752,
   "metadata": {},
   "outputs": [
    {
     "name": "stdout",
     "output_type": "stream",
     "text": [
      "There are 682 loans in the data.\n",
      "\n",
      "Missing data:\n",
      "amount              0\n",
      "duration            0\n",
      "payments            0\n",
      "A1                  0\n",
      "A4                  0\n",
      "A5                  0\n",
      "A6                  0\n",
      "A7                  0\n",
      "A8                  0\n",
      "A9                  0\n",
      "A10                 0\n",
      "A11                 0\n",
      "A12                 3\n",
      "A13                 3\n",
      "A14                 0\n",
      "issued              0\n",
      "target              0\n",
      "gender              0\n",
      "appl_age            0\n",
      "accnt_age           0\n",
      "frequency_trans     0\n",
      "frequency_weekly    0\n",
      "multi               0\n",
      "dtype: int64 \n",
      "\n",
      "           A1  A12  A13\n",
      "loan_id                \n",
      "5128.0   69.0  NaN  NaN\n",
      "5282.0   69.0  NaN  NaN\n",
      "6613.0   69.0  NaN  NaN\n"
     ]
    }
   ],
   "source": [
    "print('There are {} loans in the data.\\n'.format(len(loans)))\n",
    "print('Missing data:')\n",
    "print(np.sum(loans.isna()), '\\n')\n",
    "print(loans.loc[loans.A13.isna(),['A1', 'A12','A13']])"
   ]
  },
  {
   "cell_type": "markdown",
   "metadata": {},
   "source": [
    "The missing unemployment and crime data is from district with id 69. We will look at whether we have the data for the district available somewhere else and replace accordingly."
   ]
  },
  {
   "cell_type": "code",
   "execution_count": 753,
   "metadata": {},
   "outputs": [
    {
     "name": "stdout",
     "output_type": "stream",
     "text": [
      "           A1       A12   A13\n",
      "loan_id                      \n",
      "5128.0   69.0       NaN   NaN\n",
      "5281.0   69.0  0.031713  7.01\n",
      "5282.0   69.0       NaN   NaN\n",
      "5868.0   69.0  0.031713  7.01\n",
      "6436.0   69.0  0.031713  7.01\n",
      "6613.0   69.0       NaN   NaN\n",
      "6866.0   69.0  0.031713  7.01\n",
      "7100.0   69.0  0.031713  7.01\n",
      "           A1       A12   A13\n",
      "loan_id                      \n",
      "5128.0   69.0  0.031713  7.01\n",
      "5281.0   69.0  0.031713  7.01\n",
      "5282.0   69.0  0.031713  7.01\n",
      "5868.0   69.0  0.031713  7.01\n",
      "6436.0   69.0  0.031713  7.01\n",
      "6613.0   69.0  0.031713  7.01\n",
      "6866.0   69.0  0.031713  7.01\n",
      "7100.0   69.0  0.031713  7.01\n"
     ]
    }
   ],
   "source": [
    "print(loans.loc[loans.A1==69,['A1', 'A12','A13']])\n",
    "loans.loc[loans.A13.isna(),['A12','A13']] = loans.loc[5281,['A12','A13']].values\n",
    "print(loans.loc[loans.A1==69,['A1', 'A12','A13']])\n",
    "loans.drop('A1', axis=1, inplace=True)"
   ]
  },
  {
   "cell_type": "markdown",
   "metadata": {},
   "source": [
    "### Read in and merge transaction data\n",
    "\n",
    "We are ready to work with the transaction data."
   ]
  },
  {
   "cell_type": "code",
   "execution_count": 754,
   "metadata": {},
   "outputs": [
    {
     "name": "stdout",
     "output_type": "stream",
     "text": [
      "Total transactions:  233627\n"
     ]
    }
   ],
   "source": [
    "trans = pd.read_csv('trans.asc', sep=';')\n",
    "trans_loans = pd.merge(loan_dates, trans, on='account_id', suffixes=['', '_trans'], how='left')\n",
    "print('Total transactions: ', len(trans_loans))"
   ]
  },
  {
   "cell_type": "markdown",
   "metadata": {},
   "source": [
    "Because we're interested in predicting bad loans, we should use transaction data from only prior to giving out the loan.\n",
    "In order to work with the dates, we will first transform them to datetime format"
   ]
  },
  {
   "cell_type": "code",
   "execution_count": 755,
   "metadata": {
    "scrolled": true
   },
   "outputs": [
    {
     "name": "stdout",
     "output_type": "stream",
     "text": [
      "We end up with 66762 ex-ante transactions for our final data.\n"
     ]
    }
   ],
   "source": [
    "trans_loans.date = pd.to_datetime(trans_loans.date, format='%y%m%d')\n",
    "\n",
    "#filter to transactions prior to loan issuance\n",
    "trans_loans = trans_loans[trans_loans.date < trans_loans.date_loan]\n",
    "\n",
    "print('We end up with {} ex-ante transactions for our final data.'.format(len(trans_loans)))"
   ]
  },
  {
   "cell_type": "markdown",
   "metadata": {},
   "source": [
    "### Explore missingness in the transaction data "
   ]
  },
  {
   "cell_type": "code",
   "execution_count": 756,
   "metadata": {
    "scrolled": false
   },
   "outputs": [
    {
     "name": "stdout",
     "output_type": "stream",
     "text": [
      "trans_id      0.000000\n",
      "account_id    0.000000\n",
      "date          0.000000\n",
      "type          0.000000\n",
      "operation     0.173351\n",
      "amount        0.000000\n",
      "balance       0.000000\n",
      "k_symbol      0.456188\n",
      "bank          0.741075\n",
      "account       0.720360\n",
      "dtype: float64\n"
     ]
    }
   ],
   "source": [
    "print(np.sum(trans.isna())/len(trans))"
   ]
  },
  {
   "cell_type": "code",
   "execution_count": 757,
   "metadata": {
    "scrolled": false
   },
   "outputs": [
    {
     "name": "stdout",
     "output_type": "stream",
     "text": [
      "account_id    0.000000\n",
      "loan_id       0.000000\n",
      "date_loan     0.000000\n",
      "trans_id      0.000000\n",
      "date          0.000000\n",
      "type          0.000000\n",
      "operation     0.172883\n",
      "amount        0.000000\n",
      "balance       0.000000\n",
      "k_symbol      0.582322\n",
      "bank          0.815763\n",
      "account       0.706180\n",
      "dtype: float64\n"
     ]
    }
   ],
   "source": [
    "print(np.sum(trans_loans.isna())/len(trans_loans))"
   ]
  },
  {
   "cell_type": "markdown",
   "metadata": {},
   "source": [
    "Bank and account columns report the bank and account of a partner in a transaction. As such, the specific bank and of a partner are likely not relevant and missingness should not be an issue.\n",
    "\n",
    "Because we want to utilize the transactions for predicting credit defaults, transaction types are intuitively important. The operation and k_symbol columns describe the transaction type. We will explore the missing operation data further by examining, whethere there are cases where both operation and k_symbol are missing:"
   ]
  },
  {
   "cell_type": "code",
   "execution_count": 758,
   "metadata": {
    "scrolled": true
   },
   "outputs": [
    {
     "name": "stdout",
     "output_type": "stream",
     "text": [
      "Percentage of cases where both operation and k_symbol are missing: \n",
      "0.0\n",
      "Percentage of cases where both operation and k_symbol are reported: \n",
      "0.37046065586186006\n",
      "Percentage of cases where both operation and k_symbol are missing: \n",
      "0.0\n",
      "Percentage of cases where both operation and k_symbol are reported: \n",
      "0.01547163738261133\n"
     ]
    }
   ],
   "source": [
    "print('Percentage of cases where both operation and k_symbol are missing: ')\n",
    "print(np.sum(trans.operation.isna() & trans.k_symbol.isna())/len(trans))\n",
    "print('Percentage of cases where both operation and k_symbol are reported: ')\n",
    "print(np.sum(~trans.operation.isna() & ~trans.k_symbol.isna())/len(trans))\n",
    "\n",
    "print('Percentage of cases where both operation and k_symbol are missing: ')\n",
    "print(np.sum(trans_loans.operation.isna() & trans_loans.k_symbol.isna())/len(trans))\n",
    "print('Percentage of cases where both operation and k_symbol are reported: ')\n",
    "print(np.sum(~trans_loans.operation.isna() & ~trans_loans.k_symbol.isna())/len(trans))"
   ]
  },
  {
   "cell_type": "markdown",
   "metadata": {},
   "source": [
    "We see that, while operation and k_symbol are missing at times, there are no cases where neither one is present. Thus, missingness should be no issue.\n",
    "\n",
    "Because missing data is not an issue and we do not need to use the transaction data to predict missing values, we can focus on the subset of the transactions data, where there are loans present.\n",
    "\n"
   ]
  },
  {
   "cell_type": "markdown",
   "metadata": {},
   "source": [
    "## Aggregating transactions\n",
    "\n",
    "We noe move on to aggregating the transactions data to loan-level.\n",
    "\n",
    "First, we drop irrelevant columns and generate some dummy variables. Only transaction-related variables are kept.\n",
    "Out of the transaction variables, the bank and account columns are likely not relevant and quite sparse, so they are dropped. "
   ]
  },
  {
   "cell_type": "code",
   "execution_count": 759,
   "metadata": {},
   "outputs": [
    {
     "name": "stdout",
     "output_type": "stream",
     "text": [
      "VYBER            23623\n",
      "VKLAD            11956\n",
      "UROK             11542\n",
      "SIPO              4878\n",
      "PREVOD Z UCTU     3200\n",
      "                  3082\n",
      "POJISTNE          1311\n",
      "VYBER KARTOU        98\n",
      "SANKC. UROK         81\n",
      "Name: k_symbol, dtype: int64\n"
     ]
    }
   ],
   "source": [
    "trans_loans = trans_loans[['loan_id', 'date','date_loan', 'type', 'operation',\n",
    "       'amount', 'balance', 'k_symbol']]\n",
    "\n",
    "#drop transactions of payments for statements as they are the same price for all customers\n",
    "#and very likely not of interest\n",
    "trans_loans = trans_loans[trans_loans.k_symbol != 'SLUZBY']\n",
    "\n",
    "#as the k_symbol and operation cover similar things, we combine them into one\n",
    "#categorical variable that describes the operation type\n",
    "trans_loans.k_symbol.fillna(trans_loans.operation, inplace=True)\n",
    "\n",
    "print(trans_loans.k_symbol.value_counts())\n",
    "\n",
    "#get dummies for operation\n",
    "trans_loans = pd.get_dummies(trans_loans, columns=['k_symbol'], prefix='type')\n",
    "\n",
    "#combine card and cash withdrawals to one\n",
    "trans_loans['type_VYBER'] = trans_loans['type_VYBER KARTOU'] + trans_loans['type_VYBER']\n",
    "\n",
    "#drop irrelevant columns and rename columns more intuitively\n",
    "trans_loans.drop(['type','operation', 'type_VYBER KARTOU'], axis=1, inplace=True)\n",
    "trans_loans.columns = ['loan_id', 'date', 'date_loan', 'amount_trans', 'balance', 'b_withdr',\n",
    "       'insur', 'b_deposit', 'sanc', 'hhold',\n",
    "       'interest', 'c_deposit', 'c_withdr']\n"
   ]
  },
  {
   "cell_type": "markdown",
   "metadata": {},
   "source": [
    "### Create aggregate time-series variables\n",
    "We will create aggregate time-series' for the recent interest rate as measured by the rate transactions and for the amount of concurrent loan applicants (rolling mean of past 6 months."
   ]
  },
  {
   "cell_type": "code",
   "execution_count": 760,
   "metadata": {
    "scrolled": true
   },
   "outputs": [
    {
     "data": {
      "text/plain": [
       "<matplotlib.axes._subplots.AxesSubplot at 0x21519425348>"
      ]
     },
     "execution_count": 760,
     "metadata": {},
     "output_type": "execute_result"
    },
    {
     "data": {
      "image/png": "[encoded data removed]",
      "text/plain": [
       "<Figure size 432x288 with 1 Axes>"
      ]
     },
     "metadata": {
      "needs_background": "light"
     },
     "output_type": "display_data"
    }
   ],
   "source": [
    "#create interest-rate variable for interest transactions\n",
    "trans_loans['rate'] = (trans_loans.amount_trans * trans_loans.interest) / (trans_loans.balance - trans_loans.amount_trans)\n",
    "rates = trans_loans[trans_loans.interest == 1].groupby('date').mean().rate\n",
    "rates.plot.line()\n"
   ]
  },
  {
   "cell_type": "code",
   "execution_count": 761,
   "metadata": {},
   "outputs": [
    {
     "data": {
      "text/plain": [
       "<matplotlib.axes._subplots.AxesSubplot at 0x2151e043fc8>"
      ]
     },
     "execution_count": 761,
     "metadata": {},
     "output_type": "execute_result"
    },
    {
     "data": {
      "image/png": "[encoded data removed]",
      "text/plain": [
       "<Figure size 432x288 with 1 Axes>"
      ]
     },
     "metadata": {
      "needs_background": "light"
     },
     "output_type": "display_data"
    }
   ],
   "source": [
    "#create applicant variable as the rolling 90-day average of applicants\n",
    "applicants = trans_loans.groupby('loan_id').first().date_loan.value_counts().sort_index()\n",
    "applicants = applicants.resample('D').sum().rolling(90).sum().shift(1)\n",
    "applicants.plot.line()"
   ]
  },
  {
   "cell_type": "markdown",
   "metadata": {},
   "source": [
    "We can now merge, the time-series variables with the loan data"
   ]
  },
  {
   "cell_type": "code",
   "execution_count": 769,
   "metadata": {},
   "outputs": [],
   "source": [
    "#Merge time-series variables with static loan data\n",
    "ts_data = loan_dates.sort_values('date_loan')\n",
    "#merge rates\n",
    "ts_data = pd.merge_asof(ts_data, rates, left_on='date_loan', right_index=True)\n",
    "#merge amount of applicants\n",
    "ts_data = pd.merge(ts_data, applicants, left_on='date_loan', right_index=True)\n",
    "\n",
    "#drop trash and set index for joining\n",
    "ts_data.drop(['date_loan','account_id','date_loan_x'], axis=1, inplace=True)\n",
    "ts_data.columns=['loan_id', 'rate','applicants']\n",
    "ts_data.set_index('loan_id', inplace=True)\n",
    "\n",
    "loans = loans.join(ts_data).drop_duplicates()"
   ]
  },
  {
   "cell_type": "markdown",
   "metadata": {},
   "source": [
    "### Compute aggregations and combine\n",
    "We first aggregate the transaction data to loan-level.\n",
    "Then we merge with the static loan data and the time-series variables."
   ]
  },
  {
   "cell_type": "code",
   "execution_count": 771,
   "metadata": {},
   "outputs": [],
   "source": [
    "def aggregate(data, time_window_max = 100, time_window_min = 0):  \n",
    "    trans_agg = data[(data.date_loan - data.date).dt.days < time_window_max]\n",
    "    trans_agg = trans_agg[(data.date_loan - data.date).dt.days > time_window_min]\n",
    "    trans_agg['balance_start'] = trans_agg.balance - trans_agg.amount_trans\n",
    "    trans_agg['transactions'] = 1\n",
    "    trans_agg['net_cdeposit'] = trans_agg.c_deposit * trans_agg.amount_trans \\\n",
    "                                - trans_agg.c_withdr * trans_agg.amount_trans\n",
    "    trans_agg['net_bdeposit'] =  trans_agg.b_deposit * trans_agg.amount_trans \\\n",
    "                                - trans_agg.b_withdr * trans_agg.amount_trans\n",
    "    trans_agg['age'] = (trans_loans.date_loan - trans_loans.date).dt.days\n",
    "    trans_agg = trans_agg.groupby('loan_id').agg({\n",
    "        'balance':['min','mean','max'], \n",
    "        'c_deposit':'sum',\n",
    "        'c_withdr':'sum',\n",
    "        'sanc':'max',\n",
    "        'rate': ['min','mean','max'],\n",
    "        'balance_start':lambda x: x.iloc[0],\n",
    "        'transactions':'sum',\n",
    "        'net_cdeposit':'sum',\n",
    "        'net_bdeposit':['sum','max'],\n",
    "        'age':'mean'\n",
    "    })\n",
    "    trans_agg.columns = ['_'.join(col).strip() for col in trans_agg.columns.values]\n",
    "\n",
    "    trans_agg['balance_max'] = trans_agg[['balance_max', 'balance_start_<lambda>']].max(axis=1)\n",
    "    trans_agg['balance_min'] = trans_agg[['balance_min', 'balance_start_<lambda>']].min(axis=1)\n",
    "    trans_agg.drop(['balance_start_<lambda>'], axis=1, inplace=True)\n",
    "    trans_agg['neg_bal'] = (trans_agg.balance_min < 0).astype(int)\n",
    "    return trans_agg"
   ]
  },
  {
   "cell_type": "markdown",
   "metadata": {},
   "source": [
    "Finally, we create aggregations. Here, we use a full history up until the most recent two months and the recent two months separately."
   ]
  },
  {
   "cell_type": "code",
   "execution_count": 686,
   "metadata": {},
   "outputs": [
    {
     "name": "stderr",
     "output_type": "stream",
     "text": [
      "C:\\ProgramData\\Anaconda3\\lib\\site-packages\\ipykernel_launcher.py:3: UserWarning: Boolean Series key will be reindexed to match DataFrame index.\n",
      "  This is separate from the ipykernel package so we can avoid doing imports until\n"
     ]
    }
   ],
   "source": [
    "trans_agg = aggregate(trans_loans, 3000, 60)\n",
    "trans_agg_2m = aggregate(trans_loans, 60, 0)\n",
    "trans_agg = trans_agg.join(trans_agg_2m, rsuffix='_2m')"
   ]
  },
  {
   "cell_type": "markdown",
   "metadata": {},
   "source": [
    "### Merge transaction and loan datasets, export"
   ]
  },
  {
   "cell_type": "code",
   "execution_count": 687,
   "metadata": {},
   "outputs": [],
   "source": [
    "final = pd.merge(loans, trans_agg, left_index=True, right_index=True, suffixes=['','_trans'], how='left')\n",
    "\n",
    "\n",
    "\n",
    "with open('loan_data','wb') as file:\n",
    "    pickle.dump(final, file)"
   ]
  }
 ],
 "metadata": {
  "kernelspec": {
   "display_name": "Python 3",
   "language": "python",
   "name": "python3"
  },
  "language_info": {
   "codemirror_mode": {
    "name": "ipython",
    "version": 3
   },
   "file_extension": ".py",
   "mimetype": "text/x-python",
   "name": "python",
   "nbconvert_exporter": "python",
   "pygments_lexer": "ipython3",
   "version": "3.7.4"
  }
 },
 "nbformat": 4,
 "nbformat_minor": 2
}
