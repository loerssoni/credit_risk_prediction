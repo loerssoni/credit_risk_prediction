{
 "cells": [
  {
   "cell_type": "markdown",
   "metadata": {},
   "source": [
    "# DATA MERGING AND VALIDATION FOR CREDIT RISK ANALYSIS"
   ]
  },
  {
   "cell_type": "markdown",
   "metadata": {},
   "source": [
    "We will import and join the datasets and explore some missingness of the data"
   ]
  },
  {
   "cell_type": "code",
   "execution_count": 206,
   "metadata": {},
   "outputs": [],
   "source": [
    "import pandas as pd\n",
    "import pickle"
   ]
  },
  {
   "cell_type": "code",
   "execution_count": 207,
   "metadata": {
    "scrolled": true
   },
   "outputs": [],
   "source": [
    "trans = pd.read_csv('trans.asc',sep=';')\n",
    "client = pd.read_csv('client.asc',sep=';')\n",
    "account = pd.read_csv('account.asc',sep=';')\n",
    "disp = pd.read_csv('disp.asc',sep=';')\n",
    "order = pd.read_csv('order.asc',sep=';')\n",
    "loan = pd.read_csv('loan.asc',sep=';')\n",
    "card = pd.read_csv('card.asc',sep=';')\n",
    "district = pd.read_csv('district.asc',sep=';')"
   ]
  },
  {
   "cell_type": "markdown",
   "metadata": {},
   "source": [
    "### Reading and merging the loan and account -related datasets"
   ]
  },
  {
   "cell_type": "code",
   "execution_count": 208,
   "metadata": {},
   "outputs": [],
   "source": [
    "df = pd.merge(loan, account,on='account_id', suffixes=['_loan','_acnt'], how='outer')\n",
    "df = pd.merge(df, disp, on='account_id', how='outer')\n",
    "df = pd.merge(df, client, on='client_id', how='outer', suffixes = ['_clnt','_acnt'])\n",
    "df = pd.merge(df, district, left_on='district_id_clnt', right_on='A1', how='outer')\n",
    "df = pd.merge(df, card, on='disp_id', how='outer', suffixes=['', '_card'])"
   ]
  },
  {
   "cell_type": "markdown",
   "metadata": {},
   "source": [
    "### Read in and merge transaction data"
   ]
  },
  {
   "cell_type": "code",
   "execution_count": 209,
   "metadata": {},
   "outputs": [],
   "source": [
    "trans = pd.read_csv('trans.asc', sep=';')"
   ]
  },
  {
   "cell_type": "code",
   "execution_count": 210,
   "metadata": {},
   "outputs": [],
   "source": [
    "trans = pd.merge(trans, df, on='account_id', suffixes=['_trans', ''], how='left')\n",
    "#Subset the data set to transactions for accounts with loans:\n",
    "trans_loans = trans[~pd.isna(trans.loan_id)]"
   ]
  },
  {
   "cell_type": "code",
   "execution_count": 211,
   "metadata": {},
   "outputs": [
    {
     "name": "stdout",
     "output_type": "stream",
     "text": [
      "Total transactions:  1262625 \n",
      "Transactions for accounts with a loan:  233627\n"
     ]
    }
   ],
   "source": [
    "print('Total transactions: ', len(trans),'\\nTransactions for accounts with a loan: ', len(trans_loans))"
   ]
  },
  {
   "cell_type": "markdown",
   "metadata": {},
   "source": [
    "### Explore proportional missingness in full data and the loan data"
   ]
  },
  {
   "cell_type": "code",
   "execution_count": 212,
   "metadata": {
    "scrolled": false
   },
   "outputs": [
    {
     "name": "stdout",
     "output_type": "stream",
     "text": [
      "trans_id            0.000000\n",
      "account_id          0.000000\n",
      "date                0.000000\n",
      "type_trans          0.000000\n",
      "operation           0.172902\n",
      "amount_trans        0.000000\n",
      "balance             0.000000\n",
      "k_symbol            0.451296\n",
      "bank                0.733849\n",
      "account             0.713619\n",
      "loan_id             0.814967\n",
      "date_loan           0.814967\n",
      "amount              0.814967\n",
      "duration            0.814967\n",
      "payments            0.814967\n",
      "status              0.814967\n",
      "district_id_clnt    0.000000\n",
      "frequency           0.000000\n",
      "date_acnt           0.000000\n",
      "disp_id             0.000000\n",
      "client_id           0.000000\n",
      "type                0.000000\n",
      "birth_number        0.000000\n",
      "district_id_acnt    0.000000\n",
      "A1                  0.000000\n",
      "A2                  0.000000\n",
      "A3                  0.000000\n",
      "A4                  0.000000\n",
      "A5                  0.000000\n",
      "A6                  0.000000\n",
      "A7                  0.000000\n",
      "A8                  0.000000\n",
      "A9                  0.000000\n",
      "A10                 0.000000\n",
      "A11                 0.000000\n",
      "A12                 0.000000\n",
      "A13                 0.000000\n",
      "A14                 0.000000\n",
      "A15                 0.000000\n",
      "A16                 0.000000\n",
      "card_id             0.824225\n",
      "type_card           0.824225\n",
      "issued              0.824225\n",
      "dtype: float64\n"
     ]
    }
   ],
   "source": [
    "print(np.sum(trans.isna())/len(trans))"
   ]
  },
  {
   "cell_type": "code",
   "execution_count": 213,
   "metadata": {
    "scrolled": false
   },
   "outputs": [
    {
     "name": "stdout",
     "output_type": "stream",
     "text": [
      "trans_id            0.000000\n",
      "account_id          0.000000\n",
      "date                0.000000\n",
      "type_trans          0.000000\n",
      "operation           0.163277\n",
      "amount_trans        0.000000\n",
      "balance             0.000000\n",
      "k_symbol            0.482050\n",
      "bank                0.732989\n",
      "account             0.670102\n",
      "loan_id             0.000000\n",
      "date_loan           0.000000\n",
      "amount              0.000000\n",
      "duration            0.000000\n",
      "payments            0.000000\n",
      "status              0.000000\n",
      "district_id_clnt    0.000000\n",
      "frequency           0.000000\n",
      "date_acnt           0.000000\n",
      "disp_id             0.000000\n",
      "client_id           0.000000\n",
      "type                0.000000\n",
      "birth_number        0.000000\n",
      "district_id_acnt    0.000000\n",
      "A1                  0.000000\n",
      "A2                  0.000000\n",
      "A3                  0.000000\n",
      "A4                  0.000000\n",
      "A5                  0.000000\n",
      "A6                  0.000000\n",
      "A7                  0.000000\n",
      "A8                  0.000000\n",
      "A9                  0.000000\n",
      "A10                 0.000000\n",
      "A11                 0.000000\n",
      "A12                 0.000000\n",
      "A13                 0.000000\n",
      "A14                 0.000000\n",
      "A15                 0.000000\n",
      "A16                 0.000000\n",
      "card_id             0.798281\n",
      "type_card           0.798281\n",
      "issued              0.798281\n",
      "dtype: float64\n"
     ]
    }
   ],
   "source": [
    "print(np.sum(trans_loans.isna())/len(trans_loans))"
   ]
  },
  {
   "cell_type": "markdown",
   "metadata": {},
   "source": [
    "The missingness of credit card data is no issue, as the type and issue date of cards are likely not relevant to the problem. Bank and account columns report the bank and account of a partner in a transaction. As such, the specific bank and of a partner are likely not relevant and missingness should not be an issue.\n",
    "\n",
    "Because we want to utilize the transactions for predicting credit defaults, transaction types are intuitively important. The operation and k_symbol columns describe the transaction type. We will explore the missing operation data further by examining, whethere there are cases where both operation and k_symbol are missing:"
   ]
  },
  {
   "cell_type": "code",
   "execution_count": 214,
   "metadata": {
    "scrolled": true
   },
   "outputs": [
    {
     "name": "stdout",
     "output_type": "stream",
     "text": [
      "Percentage of cases where both operation and k_symbol are missing: \n",
      "0.0\n",
      "Percentage of cases where both operation and k_symbol are reported: \n",
      "0.3758019998019998\n",
      "Percentage of cases where both operation and k_symbol are missing: \n",
      "0.0\n",
      "Percentage of cases where both operation and k_symbol are reported: \n",
      "0.06562597762597763\n"
     ]
    }
   ],
   "source": [
    "print('Percentage of cases where both operation and k_symbol are missing: ')\n",
    "print(np.sum(trans.operation.isna() & trans.k_symbol.isna())/len(trans))\n",
    "print('Percentage of cases where both operation and k_symbol are reported: ')\n",
    "print(np.sum(~trans.operation.isna() & ~trans.k_symbol.isna())/len(trans))\n",
    "\n",
    "print('Percentage of cases where both operation and k_symbol are missing: ')\n",
    "print(np.sum(trans_loans.operation.isna() & trans_loans.k_symbol.isna())/len(trans))\n",
    "print('Percentage of cases where both operation and k_symbol are reported: ')\n",
    "print(np.sum(~trans_loans.operation.isna() & ~trans_loans.k_symbol.isna())/len(trans))"
   ]
  },
  {
   "cell_type": "markdown",
   "metadata": {},
   "source": [
    "We see that, while operation and k_symbol are missing at times, there are no cases where neither one is present. Thus, missingness should be no issue.\n",
    "\n",
    "Because missing data is not an issue and we do not need to use the transaction data to predict missing values, we can focus on the subset of the transactions data, where there are loans present.\n",
    "\n",
    "### Datetime wrangling\n",
    "\n",
    "Because we're interested in predicting bad loans, we should use transaction data from only prior to giving out the loan.\n",
    "In order to work with the dates, we will first transform them to datetime format"
   ]
  },
  {
   "cell_type": "code",
   "execution_count": 215,
   "metadata": {},
   "outputs": [
    {
     "data": {
      "text/plain": [
       "Index(['trans_id', 'account_id', 'date', 'type_trans', 'operation',\n",
       "       'amount_trans', 'balance', 'k_symbol', 'bank', 'account', 'loan_id',\n",
       "       'date_loan', 'amount', 'duration', 'payments', 'status',\n",
       "       'district_id_clnt', 'frequency', 'date_acnt', 'disp_id', 'client_id',\n",
       "       'type', 'birth_number', 'district_id_acnt', 'A1', 'A2', 'A3', 'A4',\n",
       "       'A5', 'A6', 'A7', 'A8', 'A9', 'A10', 'A11', 'A12', 'A13', 'A14', 'A15',\n",
       "       'A16', 'card_id', 'type_card', 'issued'],\n",
       "      dtype='object')"
      ]
     },
     "execution_count": 215,
     "metadata": {},
     "output_type": "execute_result"
    }
   ],
   "source": [
    "trans_loans.columns"
   ]
  },
  {
   "cell_type": "code",
   "execution_count": 216,
   "metadata": {
    "scrolled": true
   },
   "outputs": [],
   "source": [
    "trans_loans.date = pd.to_datetime(trans_loans.date, format='%y%m%d')\n",
    "trans_loans.date_loan = pd.to_datetime(trans_loans.date_loan, format='%y%m%d')\n",
    "trans_loans.issued = pd.to_datetime(trans_loans.issued.str[:6], format='%y%m%d')"
   ]
  },
  {
   "cell_type": "code",
   "execution_count": 217,
   "metadata": {},
   "outputs": [],
   "source": [
    "trans_loans = trans_loans[trans_loans.date <= trans_loans.date_loan]"
   ]
  },
  {
   "cell_type": "code",
   "execution_count": 219,
   "metadata": {},
   "outputs": [
    {
     "name": "stdout",
     "output_type": "stream",
     "text": [
      "We end up with 66976 transactions for our final data.\n"
     ]
    }
   ],
   "source": [
    "print('We end up with {} transactions for our final data.'.format(len(trans_loans)))"
   ]
  },
  {
   "cell_type": "markdown",
   "metadata": {},
   "source": [
    "### Dropping unnecessary columns"
   ]
  },
  {
   "cell_type": "code",
   "execution_count": 220,
   "metadata": {},
   "outputs": [
    {
     "name": "stdout",
     "output_type": "stream",
     "text": [
      "trans_id\n",
      "account_id\n",
      "date\n",
      "type_trans\n",
      "operation\n",
      "amount_trans\n",
      "balance\n",
      "k_symbol\n",
      "bank\n",
      "account\n",
      "loan_id\n",
      "date_loan\n",
      "amount\n",
      "duration\n",
      "payments\n",
      "status\n",
      "district_id_clnt\n",
      "frequency\n",
      "date_acnt\n",
      "disp_id\n",
      "client_id\n",
      "type\n",
      "birth_number\n",
      "district_id_acnt\n",
      "A1\n",
      "A2\n",
      "A3\n",
      "A4\n",
      "A5\n",
      "A6\n",
      "A7\n",
      "A8\n",
      "A9\n",
      "A10\n",
      "A11\n",
      "A12\n",
      "A13\n",
      "A14\n",
      "A15\n",
      "A16\n",
      "card_id\n",
      "type_card\n",
      "issued\n"
     ]
    }
   ],
   "source": [
    "print('\\n'.join(trans_loans.columns))"
   ]
  },
  {
   "cell_type": "code",
   "execution_count": null,
   "metadata": {},
   "outputs": [],
   "source": []
  },
  {
   "cell_type": "code",
   "execution_count": null,
   "metadata": {},
   "outputs": [],
   "source": []
  },
  {
   "cell_type": "markdown",
   "metadata": {},
   "source": [
    "## Export final transactions data\n",
    "\n"
   ]
  },
  {
   "cell_type": "code",
   "execution_count": null,
   "metadata": {},
   "outputs": [],
   "source": [
    "with open('transactions_data','wb') as file:\n",
    "    pickle.dump(trans_loans, file)"
   ]
  },
  {
   "cell_type": "code",
   "execution_count": 153,
   "metadata": {},
   "outputs": [],
   "source": []
  },
  {
   "cell_type": "markdown",
   "metadata": {},
   "source": [
    "## Some additional data wrangling"
   ]
  },
  {
   "cell_type": "code",
   "execution_count": 159,
   "metadata": {},
   "outputs": [
    {
     "data": {
      "text/html": [
       "<div>\n",
       "<style scoped>\n",
       "    .dataframe tbody tr th:only-of-type {\n",
       "        vertical-align: middle;\n",
       "    }\n",
       "\n",
       "    .dataframe tbody tr th {\n",
       "        vertical-align: top;\n",
       "    }\n",
       "\n",
       "    .dataframe thead th {\n",
       "        text-align: right;\n",
       "    }\n",
       "</style>\n",
       "<table border=\"1\" class=\"dataframe\">\n",
       "  <thead>\n",
       "    <tr style=\"text-align: right;\">\n",
       "      <th></th>\n",
       "      <th>trans_id</th>\n",
       "      <th>account_id</th>\n",
       "      <th>date</th>\n",
       "      <th>amount_trans</th>\n",
       "      <th>balance</th>\n",
       "      <th>account</th>\n",
       "      <th>loan_id</th>\n",
       "      <th>date_loan</th>\n",
       "      <th>amount</th>\n",
       "      <th>duration</th>\n",
       "      <th>...</th>\n",
       "      <th>A6</th>\n",
       "      <th>A7</th>\n",
       "      <th>A8</th>\n",
       "      <th>A9</th>\n",
       "      <th>A10</th>\n",
       "      <th>A11</th>\n",
       "      <th>A13</th>\n",
       "      <th>A14</th>\n",
       "      <th>A16</th>\n",
       "      <th>card_id</th>\n",
       "    </tr>\n",
       "  </thead>\n",
       "  <tbody>\n",
       "    <tr>\n",
       "      <td>count</td>\n",
       "      <td>2.336270e+05</td>\n",
       "      <td>233627.000000</td>\n",
       "      <td>233627.000000</td>\n",
       "      <td>233627.000000</td>\n",
       "      <td>233627.000000</td>\n",
       "      <td>7.707300e+04</td>\n",
       "      <td>233627.000000</td>\n",
       "      <td>233627.000000</td>\n",
       "      <td>233627.000000</td>\n",
       "      <td>233627.000000</td>\n",
       "      <td>...</td>\n",
       "      <td>233627.000000</td>\n",
       "      <td>233627.000000</td>\n",
       "      <td>233627.000000</td>\n",
       "      <td>233627.000000</td>\n",
       "      <td>233627.000000</td>\n",
       "      <td>233627.000000</td>\n",
       "      <td>233627.000000</td>\n",
       "      <td>233627.000000</td>\n",
       "      <td>233627.000000</td>\n",
       "      <td>47127.000000</td>\n",
       "    </tr>\n",
       "    <tr>\n",
       "      <td>mean</td>\n",
       "      <td>2.084692e+06</td>\n",
       "      <td>6034.333245</td>\n",
       "      <td>966293.534476</td>\n",
       "      <td>8239.434745</td>\n",
       "      <td>45520.418867</td>\n",
       "      <td>4.067135e+07</td>\n",
       "      <td>6216.416921</td>\n",
       "      <td>956830.527619</td>\n",
       "      <td>147130.014733</td>\n",
       "      <td>35.513121</td>\n",
       "      <td>...</td>\n",
       "      <td>21.533367</td>\n",
       "      <td>5.469137</td>\n",
       "      <td>1.682785</td>\n",
       "      <td>5.291794</td>\n",
       "      <td>68.555529</td>\n",
       "      <td>9551.048946</td>\n",
       "      <td>3.468643</td>\n",
       "      <td>122.373737</td>\n",
       "      <td>17582.671104</td>\n",
       "      <td>820.616738</td>\n",
       "    </tr>\n",
       "    <tr>\n",
       "      <td>std</td>\n",
       "      <td>1.115108e+06</td>\n",
       "      <td>3233.873384</td>\n",
       "      <td>13622.799197</td>\n",
       "      <td>11740.717669</td>\n",
       "      <td>24765.050048</td>\n",
       "      <td>3.272112e+07</td>\n",
       "      <td>672.007484</td>\n",
       "      <td>14668.160340</td>\n",
       "      <td>111462.998365</td>\n",
       "      <td>17.255362</td>\n",
       "      <td>...</td>\n",
       "      <td>16.112486</td>\n",
       "      <td>4.601195</td>\n",
       "      <td>1.071525</td>\n",
       "      <td>2.907060</td>\n",
       "      <td>20.480304</td>\n",
       "      <td>1356.102185</td>\n",
       "      <td>2.142688</td>\n",
       "      <td>23.791757</td>\n",
       "      <td>32637.127783</td>\n",
       "      <td>327.342498</td>\n",
       "    </tr>\n",
       "    <tr>\n",
       "      <td>min</td>\n",
       "      <td>2.760000e+02</td>\n",
       "      <td>2.000000</td>\n",
       "      <td>930113.000000</td>\n",
       "      <td>0.000000</td>\n",
       "      <td>-19310.000000</td>\n",
       "      <td>0.000000e+00</td>\n",
       "      <td>4959.000000</td>\n",
       "      <td>930705.000000</td>\n",
       "      <td>4980.000000</td>\n",
       "      <td>12.000000</td>\n",
       "      <td>...</td>\n",
       "      <td>0.000000</td>\n",
       "      <td>0.000000</td>\n",
       "      <td>0.000000</td>\n",
       "      <td>1.000000</td>\n",
       "      <td>33.900000</td>\n",
       "      <td>8110.000000</td>\n",
       "      <td>0.430000</td>\n",
       "      <td>81.000000</td>\n",
       "      <td>888.000000</td>\n",
       "      <td>16.000000</td>\n",
       "    </tr>\n",
       "    <tr>\n",
       "      <td>25%</td>\n",
       "      <td>1.113868e+06</td>\n",
       "      <td>3115.000000</td>\n",
       "      <td>960307.000000</td>\n",
       "      <td>199.500000</td>\n",
       "      <td>27441.450000</td>\n",
       "      <td>7.603472e+06</td>\n",
       "      <td>5611.000000</td>\n",
       "      <td>941003.000000</td>\n",
       "      <td>67464.000000</td>\n",
       "      <td>24.000000</td>\n",
       "      <td>...</td>\n",
       "      <td>8.000000</td>\n",
       "      <td>2.000000</td>\n",
       "      <td>1.000000</td>\n",
       "      <td>4.000000</td>\n",
       "      <td>52.700000</td>\n",
       "      <td>8546.000000</td>\n",
       "      <td>1.960000</td>\n",
       "      <td>106.000000</td>\n",
       "      <td>2252.000000</td>\n",
       "      <td>587.000000</td>\n",
       "    </tr>\n",
       "    <tr>\n",
       "      <td>50%</td>\n",
       "      <td>2.279742e+06</td>\n",
       "      <td>6148.000000</td>\n",
       "      <td>970508.000000</td>\n",
       "      <td>3600.000000</td>\n",
       "      <td>40934.000000</td>\n",
       "      <td>3.866864e+07</td>\n",
       "      <td>6253.000000</td>\n",
       "      <td>960119.000000</td>\n",
       "      <td>108144.000000</td>\n",
       "      <td>36.000000</td>\n",
       "      <td>...</td>\n",
       "      <td>23.000000</td>\n",
       "      <td>5.000000</td>\n",
       "      <td>1.000000</td>\n",
       "      <td>6.000000</td>\n",
       "      <td>61.900000</td>\n",
       "      <td>8994.000000</td>\n",
       "      <td>3.490000</td>\n",
       "      <td>117.000000</td>\n",
       "      <td>3868.000000</td>\n",
       "      <td>890.000000</td>\n",
       "    </tr>\n",
       "    <tr>\n",
       "      <td>75%</td>\n",
       "      <td>3.091876e+06</td>\n",
       "      <td>8784.000000</td>\n",
       "      <td>980305.000000</td>\n",
       "      <td>10530.000000</td>\n",
       "      <td>59333.200000</td>\n",
       "      <td>6.941577e+07</td>\n",
       "      <td>6766.000000</td>\n",
       "      <td>970518.000000</td>\n",
       "      <td>203940.000000</td>\n",
       "      <td>48.000000</td>\n",
       "      <td>...</td>\n",
       "      <td>33.000000</td>\n",
       "      <td>8.000000</td>\n",
       "      <td>2.000000</td>\n",
       "      <td>7.000000</td>\n",
       "      <td>87.700000</td>\n",
       "      <td>9897.000000</td>\n",
       "      <td>4.720000</td>\n",
       "      <td>137.000000</td>\n",
       "      <td>6872.000000</td>\n",
       "      <td>1081.000000</td>\n",
       "    </tr>\n",
       "    <tr>\n",
       "      <td>max</td>\n",
       "      <td>3.682987e+06</td>\n",
       "      <td>11362.000000</td>\n",
       "      <td>981231.000000</td>\n",
       "      <td>87300.000000</td>\n",
       "      <td>209637.000000</td>\n",
       "      <td>9.999420e+07</td>\n",
       "      <td>7308.000000</td>\n",
       "      <td>981208.000000</td>\n",
       "      <td>590820.000000</td>\n",
       "      <td>60.000000</td>\n",
       "      <td>...</td>\n",
       "      <td>70.000000</td>\n",
       "      <td>20.000000</td>\n",
       "      <td>5.000000</td>\n",
       "      <td>11.000000</td>\n",
       "      <td>100.000000</td>\n",
       "      <td>12541.000000</td>\n",
       "      <td>9.400000</td>\n",
       "      <td>167.000000</td>\n",
       "      <td>99107.000000</td>\n",
       "      <td>1247.000000</td>\n",
       "    </tr>\n",
       "  </tbody>\n",
       "</table>\n",
       "<p>8 rows × 30 columns</p>\n",
       "</div>"
      ],
      "text/plain": [
       "           trans_id     account_id           date   amount_trans  \\\n",
       "count  2.336270e+05  233627.000000  233627.000000  233627.000000   \n",
       "mean   2.084692e+06    6034.333245  966293.534476    8239.434745   \n",
       "std    1.115108e+06    3233.873384   13622.799197   11740.717669   \n",
       "min    2.760000e+02       2.000000  930113.000000       0.000000   \n",
       "25%    1.113868e+06    3115.000000  960307.000000     199.500000   \n",
       "50%    2.279742e+06    6148.000000  970508.000000    3600.000000   \n",
       "75%    3.091876e+06    8784.000000  980305.000000   10530.000000   \n",
       "max    3.682987e+06   11362.000000  981231.000000   87300.000000   \n",
       "\n",
       "             balance       account        loan_id      date_loan  \\\n",
       "count  233627.000000  7.707300e+04  233627.000000  233627.000000   \n",
       "mean    45520.418867  4.067135e+07    6216.416921  956830.527619   \n",
       "std     24765.050048  3.272112e+07     672.007484   14668.160340   \n",
       "min    -19310.000000  0.000000e+00    4959.000000  930705.000000   \n",
       "25%     27441.450000  7.603472e+06    5611.000000  941003.000000   \n",
       "50%     40934.000000  3.866864e+07    6253.000000  960119.000000   \n",
       "75%     59333.200000  6.941577e+07    6766.000000  970518.000000   \n",
       "max    209637.000000  9.999420e+07    7308.000000  981208.000000   \n",
       "\n",
       "              amount       duration  ...             A6             A7  \\\n",
       "count  233627.000000  233627.000000  ...  233627.000000  233627.000000   \n",
       "mean   147130.014733      35.513121  ...      21.533367       5.469137   \n",
       "std    111462.998365      17.255362  ...      16.112486       4.601195   \n",
       "min      4980.000000      12.000000  ...       0.000000       0.000000   \n",
       "25%     67464.000000      24.000000  ...       8.000000       2.000000   \n",
       "50%    108144.000000      36.000000  ...      23.000000       5.000000   \n",
       "75%    203940.000000      48.000000  ...      33.000000       8.000000   \n",
       "max    590820.000000      60.000000  ...      70.000000      20.000000   \n",
       "\n",
       "                  A8             A9            A10            A11  \\\n",
       "count  233627.000000  233627.000000  233627.000000  233627.000000   \n",
       "mean        1.682785       5.291794      68.555529    9551.048946   \n",
       "std         1.071525       2.907060      20.480304    1356.102185   \n",
       "min         0.000000       1.000000      33.900000    8110.000000   \n",
       "25%         1.000000       4.000000      52.700000    8546.000000   \n",
       "50%         1.000000       6.000000      61.900000    8994.000000   \n",
       "75%         2.000000       7.000000      87.700000    9897.000000   \n",
       "max         5.000000      11.000000     100.000000   12541.000000   \n",
       "\n",
       "                 A13            A14            A16       card_id  \n",
       "count  233627.000000  233627.000000  233627.000000  47127.000000  \n",
       "mean        3.468643     122.373737   17582.671104    820.616738  \n",
       "std         2.142688      23.791757   32637.127783    327.342498  \n",
       "min         0.430000      81.000000     888.000000     16.000000  \n",
       "25%         1.960000     106.000000    2252.000000    587.000000  \n",
       "50%         3.490000     117.000000    3868.000000    890.000000  \n",
       "75%         4.720000     137.000000    6872.000000   1081.000000  \n",
       "max         9.400000     167.000000   99107.000000   1247.000000  \n",
       "\n",
       "[8 rows x 30 columns]"
      ]
     },
     "execution_count": 159,
     "metadata": {},
     "output_type": "execute_result"
    }
   ],
   "source": []
  }
 ],
 "metadata": {
  "kernelspec": {
   "display_name": "Python 3",
   "language": "python",
   "name": "python3"
  },
  "language_info": {
   "codemirror_mode": {
    "name": "ipython",
    "version": 3
   },
   "file_extension": ".py",
   "mimetype": "text/x-python",
   "name": "python",
   "nbconvert_exporter": "python",
   "pygments_lexer": "ipython3",
   "version": "3.7.4"
  }
 },
 "nbformat": 4,
 "nbformat_minor": 2
}
